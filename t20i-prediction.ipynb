{
 "cells": [
  {
   "cell_type": "code",
   "execution_count": 1,
   "id": "b8c9cbc4-a1b4-4340-8efd-724d88d37044",
   "metadata": {},
   "outputs": [],
   "source": [
    "import pickle\n",
    "import pandas as pd"
   ]
  },
  {
   "cell_type": "code",
   "execution_count": 2,
   "id": "74649f9c-d4e3-4ed1-823e-f0c64ed4a16a",
   "metadata": {},
   "outputs": [],
   "source": [
    "final_df = pickle.load(open('dataset_level3.pkl','rb'))"
   ]
  },
  {
   "cell_type": "code",
   "execution_count": 3,
   "id": "d29a22b2-f5ff-4489-8676-2467f1872620",
   "metadata": {},
   "outputs": [],
   "source": [
    "X = final_df.drop(columns=['runs_x'])\n",
    "y = final_df['runs_x']\n",
    "from sklearn.model_selection import train_test_split\n",
    "X_train,X_test,y_train,y_test = train_test_split(X,y,test_size=0.2,random_state=1)"
   ]
  },
  {
   "cell_type": "code",
   "execution_count": 4,
   "id": "d0181b69-6c1e-499b-a8fa-04e56277542e",
   "metadata": {},
   "outputs": [
    {
     "data": {
      "text/html": [
       "<div>\n",
       "<style scoped>\n",
       "    .dataframe tbody tr th:only-of-type {\n",
       "        vertical-align: middle;\n",
       "    }\n",
       "\n",
       "    .dataframe tbody tr th {\n",
       "        vertical-align: top;\n",
       "    }\n",
       "\n",
       "    .dataframe thead th {\n",
       "        text-align: right;\n",
       "    }\n",
       "</style>\n",
       "<table border=\"1\" class=\"dataframe\">\n",
       "  <thead>\n",
       "    <tr style=\"text-align: right;\">\n",
       "      <th></th>\n",
       "      <th>batting_team</th>\n",
       "      <th>bowling_team</th>\n",
       "      <th>city</th>\n",
       "      <th>current_score</th>\n",
       "      <th>balls_left</th>\n",
       "      <th>wickets_left</th>\n",
       "      <th>crr</th>\n",
       "      <th>last_five</th>\n",
       "    </tr>\n",
       "  </thead>\n",
       "  <tbody>\n",
       "    <tr>\n",
       "      <th>16718</th>\n",
       "      <td>New Zealand</td>\n",
       "      <td>England</td>\n",
       "      <td>Durban</td>\n",
       "      <td>60</td>\n",
       "      <td>60</td>\n",
       "      <td>6</td>\n",
       "      <td>6.000000</td>\n",
       "      <td>31.0</td>\n",
       "    </tr>\n",
       "    <tr>\n",
       "      <th>1691</th>\n",
       "      <td>West Indies</td>\n",
       "      <td>Pakistan</td>\n",
       "      <td>Abu Dhabi</td>\n",
       "      <td>67</td>\n",
       "      <td>41</td>\n",
       "      <td>5</td>\n",
       "      <td>5.088608</td>\n",
       "      <td>36.0</td>\n",
       "    </tr>\n",
       "    <tr>\n",
       "      <th>12176</th>\n",
       "      <td>England</td>\n",
       "      <td>Pakistan</td>\n",
       "      <td>Manchester</td>\n",
       "      <td>130</td>\n",
       "      <td>23</td>\n",
       "      <td>4</td>\n",
       "      <td>8.041237</td>\n",
       "      <td>32.0</td>\n",
       "    </tr>\n",
       "    <tr>\n",
       "      <th>30099</th>\n",
       "      <td>New Zealand</td>\n",
       "      <td>South Africa</td>\n",
       "      <td>Hamilton</td>\n",
       "      <td>117</td>\n",
       "      <td>27</td>\n",
       "      <td>7</td>\n",
       "      <td>7.548387</td>\n",
       "      <td>33.0</td>\n",
       "    </tr>\n",
       "    <tr>\n",
       "      <th>30699</th>\n",
       "      <td>Sri Lanka</td>\n",
       "      <td>Pakistan</td>\n",
       "      <td>Abu Dhabi</td>\n",
       "      <td>105</td>\n",
       "      <td>42</td>\n",
       "      <td>7</td>\n",
       "      <td>8.076923</td>\n",
       "      <td>26.0</td>\n",
       "    </tr>\n",
       "    <tr>\n",
       "      <th>...</th>\n",
       "      <td>...</td>\n",
       "      <td>...</td>\n",
       "      <td>...</td>\n",
       "      <td>...</td>\n",
       "      <td>...</td>\n",
       "      <td>...</td>\n",
       "      <td>...</td>\n",
       "      <td>...</td>\n",
       "    </tr>\n",
       "    <tr>\n",
       "      <th>9762</th>\n",
       "      <td>South Africa</td>\n",
       "      <td>England</td>\n",
       "      <td>Centurion</td>\n",
       "      <td>183</td>\n",
       "      <td>17</td>\n",
       "      <td>6</td>\n",
       "      <td>10.660194</td>\n",
       "      <td>54.0</td>\n",
       "    </tr>\n",
       "    <tr>\n",
       "      <th>46264</th>\n",
       "      <td>Sri Lanka</td>\n",
       "      <td>West Indies</td>\n",
       "      <td>Pallekele</td>\n",
       "      <td>127</td>\n",
       "      <td>35</td>\n",
       "      <td>8</td>\n",
       "      <td>8.964706</td>\n",
       "      <td>38.0</td>\n",
       "    </tr>\n",
       "    <tr>\n",
       "      <th>18926</th>\n",
       "      <td>Australia</td>\n",
       "      <td>West Indies</td>\n",
       "      <td>Barbados</td>\n",
       "      <td>72</td>\n",
       "      <td>69</td>\n",
       "      <td>7</td>\n",
       "      <td>8.470588</td>\n",
       "      <td>35.0</td>\n",
       "    </tr>\n",
       "    <tr>\n",
       "      <th>35423</th>\n",
       "      <td>New Zealand</td>\n",
       "      <td>South Africa</td>\n",
       "      <td>Durban</td>\n",
       "      <td>23</td>\n",
       "      <td>86</td>\n",
       "      <td>7</td>\n",
       "      <td>4.058824</td>\n",
       "      <td>18.0</td>\n",
       "    </tr>\n",
       "    <tr>\n",
       "      <th>5782</th>\n",
       "      <td>Sri Lanka</td>\n",
       "      <td>Bangladesh</td>\n",
       "      <td>Colombo</td>\n",
       "      <td>76</td>\n",
       "      <td>76</td>\n",
       "      <td>9</td>\n",
       "      <td>10.363636</td>\n",
       "      <td>47.0</td>\n",
       "    </tr>\n",
       "  </tbody>\n",
       "</table>\n",
       "<p>30781 rows × 8 columns</p>\n",
       "</div>"
      ],
      "text/plain": [
       "       batting_team  bowling_team        city  current_score  balls_left  \\\n",
       "16718   New Zealand       England      Durban             60          60   \n",
       "1691    West Indies      Pakistan   Abu Dhabi             67          41   \n",
       "12176       England      Pakistan  Manchester            130          23   \n",
       "30099   New Zealand  South Africa    Hamilton            117          27   \n",
       "30699     Sri Lanka      Pakistan   Abu Dhabi            105          42   \n",
       "...             ...           ...         ...            ...         ...   \n",
       "9762   South Africa       England   Centurion            183          17   \n",
       "46264     Sri Lanka   West Indies   Pallekele            127          35   \n",
       "18926     Australia   West Indies    Barbados             72          69   \n",
       "35423   New Zealand  South Africa      Durban             23          86   \n",
       "5782      Sri Lanka    Bangladesh     Colombo             76          76   \n",
       "\n",
       "       wickets_left        crr  last_five  \n",
       "16718             6   6.000000       31.0  \n",
       "1691              5   5.088608       36.0  \n",
       "12176             4   8.041237       32.0  \n",
       "30099             7   7.548387       33.0  \n",
       "30699             7   8.076923       26.0  \n",
       "...             ...        ...        ...  \n",
       "9762              6  10.660194       54.0  \n",
       "46264             8   8.964706       38.0  \n",
       "18926             7   8.470588       35.0  \n",
       "35423             7   4.058824       18.0  \n",
       "5782              9  10.363636       47.0  \n",
       "\n",
       "[30781 rows x 8 columns]"
      ]
     },
     "execution_count": 4,
     "metadata": {},
     "output_type": "execute_result"
    }
   ],
   "source": [
    "X_train"
   ]
  },
  {
   "cell_type": "code",
   "execution_count": 5,
   "id": "52ef0346-5363-4672-b927-8923ba076aa5",
   "metadata": {},
   "outputs": [],
   "source": [
    "from sklearn.compose import ColumnTransformer\n",
    "from sklearn.preprocessing import OneHotEncoder\n",
    "from sklearn.pipeline import Pipeline\n",
    "from sklearn.preprocessing import StandardScaler\n",
    "from sklearn.ensemble import RandomForestRegressor\n",
    "from xgboost import XGBRegressor\n",
    "from sklearn.metrics import r2_score,mean_absolute_error"
   ]
  },
  {
   "cell_type": "code",
   "execution_count": 6,
   "id": "11b939b3-28dd-46b5-87b8-2ceef8cdbfa5",
   "metadata": {},
   "outputs": [],
   "source": [
    "trf = ColumnTransformer([('trf',\n",
    "                          OneHotEncoder(sparse=False,drop='first'),\n",
    "                          ['batting_team','bowling_team','city'])],\n",
    "                        remainder='passthrough')"
   ]
  },
  {
   "cell_type": "code",
   "execution_count": 7,
   "id": "6e1f7c21-08eb-4e5e-b66c-70af9f8d3013",
   "metadata": {},
   "outputs": [],
   "source": [
    "pipe = Pipeline(steps=[\n",
    "    ('step1',trf),\n",
    "    ('step2',StandardScaler()),\n",
    "    ('step3',XGBRegressor(n_estimators=1000,learning_rate=0.2,max_depth=12,random_state=1))\n",
    "])"
   ]
  },
  {
   "cell_type": "code",
   "execution_count": 8,
   "id": "2a273b1a-4e07-4abc-aca3-30781f741d84",
   "metadata": {},
   "outputs": [
    {
     "name": "stdout",
     "output_type": "stream",
     "text": [
      "0.986308450508473\n",
      "1.7229024536148674\n"
     ]
    }
   ],
   "source": [
    "pipe.fit(X_train,y_train)\n",
    "y_pred = pipe.predict(X_test)\n",
    "print(r2_score(y_test,y_pred))\n",
    "print(mean_absolute_error(y_test,y_pred))"
   ]
  },
  {
   "cell_type": "code",
   "execution_count": 9,
   "id": "34ca732f-26a9-482f-93b4-fe4828553645",
   "metadata": {},
   "outputs": [],
   "source": [
    "pickle.dump(pipe,open('pipe.pkl','wb'))"
   ]
  },
  {
   "cell_type": "code",
   "execution_count": null,
   "id": "19a5efa1-a984-484d-80c3-2890dd98975b",
   "metadata": {},
   "outputs": [],
   "source": []
  },
  {
   "cell_type": "code",
   "execution_count": 10,
   "id": "2ab16baa-31ce-4bb2-b755-5403b0de67e7",
   "metadata": {},
   "outputs": [
    {
     "name": "stdout",
     "output_type": "stream",
     "text": [
      "Predicted Score: 147\n"
     ]
    }
   ],
   "source": [
    "teams = ['Australia', 'India', 'Bangladesh', 'New Zealand', 'South Africa', 'England', 'West Indies', 'Afghanistan', 'Pakistan', 'Sri Lanka']\n",
    "\n",
    "cities = ['Colombo', 'Mirpur', 'Johannesburg', 'Dubai', 'Auckland', 'Cape Town', 'London', 'Pallekele', 'Barbados', 'Sydney', 'Melbourne', \n",
    "          'Durban', 'St Lucia', 'Wellington', 'Lauderhill', 'Hamilton', 'Centurion', 'Manchester', 'Abu Dhabi', 'Mumbai', 'Nottingham', \n",
    "          'Southampton', 'Mount Maunganui', 'Chittagong', 'Kolkata', 'Lahore', 'Delhi', 'Nagpur', 'Chandigarh', 'Adelaide', 'Bangalore', \n",
    "          'St Kitts', 'Cardiff', 'Christchurch', 'Trinidad']\n",
    "\n",
    "# Load the trained model\n",
    "with open('pipe.pkl', 'rb') as f:\n",
    "    pipe = pickle.load(f)\n",
    "\n",
    "def predict_score(batting_team, bowling_team, city, overs, current_score, wickets, last_five):\n",
    "    balls_left = 120 - (overs * 6)\n",
    "    wickets_left = 10 - wickets\n",
    "    crr = current_score / overs\n",
    "\n",
    "    input_df = pd.DataFrame({\n",
    "        'batting_team': [batting_team], \n",
    "        'bowling_team': [bowling_team], \n",
    "        'city': city, \n",
    "        'current_score': [current_score],\n",
    "        'balls_left': [balls_left], \n",
    "        'wickets_left': [wickets], \n",
    "        'crr': [crr], \n",
    "        'last_five': [last_five]\n",
    "    })\n",
    "    result = pipe.predict(input_df)\n",
    "    return int(result[0])\n",
    "\n",
    "# Sample inputs\n",
    "batting_team = 'New Zealand'\n",
    "bowling_team = 'England'\n",
    "city = 'Christchurch'\n",
    "overs = 15\n",
    "current_score = 105\n",
    "wickets = 4\n",
    "last_five = 33\n",
    "\n",
    "# Predict score\n",
    "predicted_score = predict_score(batting_team, bowling_team, city, overs, current_score, wickets, last_five)\n",
    "print(\"Predicted Score:\", predicted_score)"
   ]
  },
  {
   "cell_type": "code",
   "execution_count": 11,
   "id": "4a1ae523-489e-4db4-97c7-c72839bf8670",
   "metadata": {},
   "outputs": [
    {
     "name": "stdout",
     "output_type": "stream",
     "text": [
      "1.4.2\n"
     ]
    }
   ],
   "source": [
    "import xgboost as xgb\n",
    "print(xgb.__version__)"
   ]
  },
  {
   "cell_type": "code",
   "execution_count": null,
   "id": "e1e379a9-4b90-4277-9a23-4209841642de",
   "metadata": {},
   "outputs": [],
   "source": []
  }
 ],
 "metadata": {
  "kernelspec": {
   "display_name": "Python 3 (ipykernel)",
   "language": "python",
   "name": "python3"
  },
  "language_info": {
   "codemirror_mode": {
    "name": "ipython",
    "version": 3
   },
   "file_extension": ".py",
   "mimetype": "text/x-python",
   "name": "python",
   "nbconvert_exporter": "python",
   "pygments_lexer": "ipython3",
   "version": "3.9.18"
  }
 },
 "nbformat": 4,
 "nbformat_minor": 5
}
